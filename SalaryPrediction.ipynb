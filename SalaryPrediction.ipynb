{
 "cells": [
  {
   "cell_type": "code",
   "execution_count": 1,
   "id": "464be9c9-4e5d-4270-869c-599695369343",
   "metadata": {
    "tags": []
   },
   "outputs": [],
   "source": [
    "import pandas as pd \n",
    "import matplotlib.pyplot as plt\n",
    "import warnings\n",
    "warnings.filterwarnings('ignore')"
   ]
  },
  {
   "cell_type": "code",
   "execution_count": 2,
   "id": "c767b9c3-70f3-4d6a-ae9e-9a0c21a5da62",
   "metadata": {
    "tags": []
   },
   "outputs": [],
   "source": [
    "df = pd.read_csv(\"SalaryPrediction.csv\")"
   ]
  },
  {
   "cell_type": "code",
   "execution_count": 4,
   "id": "744d8169-abdc-4b11-9f37-6b4bcf51c414",
   "metadata": {
    "tags": []
   },
   "outputs": [
    {
     "data": {
      "text/html": [
       "<div>\n",
       "<style scoped>\n",
       "    .dataframe tbody tr th:only-of-type {\n",
       "        vertical-align: middle;\n",
       "    }\n",
       "\n",
       "    .dataframe tbody tr th {\n",
       "        vertical-align: top;\n",
       "    }\n",
       "\n",
       "    .dataframe thead th {\n",
       "        text-align: right;\n",
       "    }\n",
       "</style>\n",
       "<table border=\"1\" class=\"dataframe\">\n",
       "  <thead>\n",
       "    <tr style=\"text-align: right;\">\n",
       "      <th></th>\n",
       "      <th>Wage</th>\n",
       "      <th>Age</th>\n",
       "      <th>Club</th>\n",
       "      <th>League</th>\n",
       "      <th>Nation</th>\n",
       "      <th>Position</th>\n",
       "      <th>Apps</th>\n",
       "      <th>Caps</th>\n",
       "    </tr>\n",
       "  </thead>\n",
       "  <tbody>\n",
       "    <tr>\n",
       "      <th>0</th>\n",
       "      <td>46,427,000</td>\n",
       "      <td>23</td>\n",
       "      <td>PSG</td>\n",
       "      <td>Ligue 1 Uber Eats</td>\n",
       "      <td>FRA</td>\n",
       "      <td>Forward</td>\n",
       "      <td>190</td>\n",
       "      <td>57</td>\n",
       "    </tr>\n",
       "    <tr>\n",
       "      <th>1</th>\n",
       "      <td>42,125,000</td>\n",
       "      <td>30</td>\n",
       "      <td>PSG</td>\n",
       "      <td>Ligue 1 Uber Eats</td>\n",
       "      <td>BRA</td>\n",
       "      <td>Midfilder</td>\n",
       "      <td>324</td>\n",
       "      <td>119</td>\n",
       "    </tr>\n",
       "    <tr>\n",
       "      <th>2</th>\n",
       "      <td>34,821,000</td>\n",
       "      <td>35</td>\n",
       "      <td>PSG</td>\n",
       "      <td>Ligue 1 Uber Eats</td>\n",
       "      <td>ARG</td>\n",
       "      <td>Forward</td>\n",
       "      <td>585</td>\n",
       "      <td>162</td>\n",
       "    </tr>\n",
       "    <tr>\n",
       "      <th>3</th>\n",
       "      <td>19,959,000</td>\n",
       "      <td>31</td>\n",
       "      <td>R. Madrid</td>\n",
       "      <td>La Liga</td>\n",
       "      <td>BEL</td>\n",
       "      <td>Forward</td>\n",
       "      <td>443</td>\n",
       "      <td>120</td>\n",
       "    </tr>\n",
       "    <tr>\n",
       "      <th>4</th>\n",
       "      <td>19,500,000</td>\n",
       "      <td>31</td>\n",
       "      <td>Man UFC</td>\n",
       "      <td>Premier League</td>\n",
       "      <td>ESP</td>\n",
       "      <td>Goalkeeper</td>\n",
       "      <td>480</td>\n",
       "      <td>45</td>\n",
       "    </tr>\n",
       "  </tbody>\n",
       "</table>\n",
       "</div>"
      ],
      "text/plain": [
       "         Wage  Age       Club             League Nation    Position  Apps  \\\n",
       "0  46,427,000   23        PSG  Ligue 1 Uber Eats    FRA     Forward   190   \n",
       "1  42,125,000   30        PSG  Ligue 1 Uber Eats    BRA   Midfilder   324   \n",
       "2  34,821,000   35        PSG  Ligue 1 Uber Eats    ARG     Forward   585   \n",
       "3  19,959,000   31  R. Madrid            La Liga    BEL     Forward   443   \n",
       "4  19,500,000   31    Man UFC     Premier League    ESP  Goalkeeper   480   \n",
       "\n",
       "   Caps  \n",
       "0    57  \n",
       "1   119  \n",
       "2   162  \n",
       "3   120  \n",
       "4    45  "
      ]
     },
     "execution_count": 4,
     "metadata": {},
     "output_type": "execute_result"
    }
   ],
   "source": [
    "df.head()"
   ]
  },
  {
   "cell_type": "code",
   "execution_count": 5,
   "id": "12d2b775-85aa-4956-8bbd-8a9abe76835d",
   "metadata": {
    "tags": []
   },
   "outputs": [
    {
     "name": "stdout",
     "output_type": "stream",
     "text": [
      "<class 'pandas.core.frame.DataFrame'>\n",
      "RangeIndex: 3907 entries, 0 to 3906\n",
      "Data columns (total 8 columns):\n",
      " #   Column    Non-Null Count  Dtype \n",
      "---  ------    --------------  ----- \n",
      " 0   Wage      3907 non-null   object\n",
      " 1   Age       3907 non-null   int64 \n",
      " 2   Club      3907 non-null   object\n",
      " 3   League    3907 non-null   object\n",
      " 4   Nation    3907 non-null   object\n",
      " 5   Position  3907 non-null   object\n",
      " 6   Apps      3907 non-null   int64 \n",
      " 7   Caps      3907 non-null   int64 \n",
      "dtypes: int64(3), object(5)\n",
      "memory usage: 244.3+ KB\n"
     ]
    }
   ],
   "source": [
    "df.info()"
   ]
  },
  {
   "cell_type": "code",
   "execution_count": 6,
   "id": "cd994205-b3fb-4174-afa9-ceb0ba534d44",
   "metadata": {
    "tags": []
   },
   "outputs": [
    {
     "data": {
      "text/html": [
       "<div>\n",
       "<style scoped>\n",
       "    .dataframe tbody tr th:only-of-type {\n",
       "        vertical-align: middle;\n",
       "    }\n",
       "\n",
       "    .dataframe tbody tr th {\n",
       "        vertical-align: top;\n",
       "    }\n",
       "\n",
       "    .dataframe thead th {\n",
       "        text-align: right;\n",
       "    }\n",
       "</style>\n",
       "<table border=\"1\" class=\"dataframe\">\n",
       "  <thead>\n",
       "    <tr style=\"text-align: right;\">\n",
       "      <th></th>\n",
       "      <th>Wage</th>\n",
       "      <th>Age</th>\n",
       "      <th>Club</th>\n",
       "      <th>League</th>\n",
       "      <th>Nation</th>\n",
       "      <th>Position</th>\n",
       "      <th>Apps</th>\n",
       "      <th>Caps</th>\n",
       "    </tr>\n",
       "  </thead>\n",
       "  <tbody>\n",
       "    <tr>\n",
       "      <th>3902</th>\n",
       "      <td>3,400</td>\n",
       "      <td>19</td>\n",
       "      <td>Vigo</td>\n",
       "      <td>La Liga</td>\n",
       "      <td>ESP</td>\n",
       "      <td>Defender</td>\n",
       "      <td>0</td>\n",
       "      <td>0</td>\n",
       "    </tr>\n",
       "    <tr>\n",
       "      <th>3903</th>\n",
       "      <td>3,200</td>\n",
       "      <td>18</td>\n",
       "      <td>Famalicao</td>\n",
       "      <td>Primiera Liga</td>\n",
       "      <td>BRA</td>\n",
       "      <td>Goalkeeper</td>\n",
       "      <td>0</td>\n",
       "      <td>0</td>\n",
       "    </tr>\n",
       "    <tr>\n",
       "      <th>3904</th>\n",
       "      <td>2,900</td>\n",
       "      <td>18</td>\n",
       "      <td>Vigo</td>\n",
       "      <td>La Liga</td>\n",
       "      <td>ESP</td>\n",
       "      <td>Forward</td>\n",
       "      <td>0</td>\n",
       "      <td>0</td>\n",
       "    </tr>\n",
       "    <tr>\n",
       "      <th>3905</th>\n",
       "      <td>2,700</td>\n",
       "      <td>18</td>\n",
       "      <td>Vigo</td>\n",
       "      <td>La Liga</td>\n",
       "      <td>ESP</td>\n",
       "      <td>Defender</td>\n",
       "      <td>0</td>\n",
       "      <td>0</td>\n",
       "    </tr>\n",
       "    <tr>\n",
       "      <th>3906</th>\n",
       "      <td>1,400</td>\n",
       "      <td>18</td>\n",
       "      <td>Vigo</td>\n",
       "      <td>La Liga</td>\n",
       "      <td>ESP</td>\n",
       "      <td>Defender</td>\n",
       "      <td>0</td>\n",
       "      <td>0</td>\n",
       "    </tr>\n",
       "  </tbody>\n",
       "</table>\n",
       "</div>"
      ],
      "text/plain": [
       "       Wage  Age       Club         League Nation    Position  Apps  Caps\n",
       "3902  3,400   19       Vigo        La Liga    ESP    Defender     0     0\n",
       "3903  3,200   18  Famalicao  Primiera Liga    BRA  Goalkeeper     0     0\n",
       "3904  2,900   18       Vigo        La Liga    ESP     Forward     0     0\n",
       "3905  2,700   18       Vigo        La Liga    ESP    Defender     0     0\n",
       "3906  1,400   18       Vigo        La Liga    ESP    Defender     0     0"
      ]
     },
     "execution_count": 6,
     "metadata": {},
     "output_type": "execute_result"
    }
   ],
   "source": [
    "df.tail()"
   ]
  },
  {
   "cell_type": "code",
   "execution_count": 7,
   "id": "8b9d2dcc-be96-4fe7-b974-a36eca95a249",
   "metadata": {
    "tags": []
   },
   "outputs": [
    {
     "data": {
      "text/html": [
       "<div>\n",
       "<style scoped>\n",
       "    .dataframe tbody tr th:only-of-type {\n",
       "        vertical-align: middle;\n",
       "    }\n",
       "\n",
       "    .dataframe tbody tr th {\n",
       "        vertical-align: top;\n",
       "    }\n",
       "\n",
       "    .dataframe thead th {\n",
       "        text-align: right;\n",
       "    }\n",
       "</style>\n",
       "<table border=\"1\" class=\"dataframe\">\n",
       "  <thead>\n",
       "    <tr style=\"text-align: right;\">\n",
       "      <th></th>\n",
       "      <th>Age</th>\n",
       "      <th>Apps</th>\n",
       "      <th>Caps</th>\n",
       "    </tr>\n",
       "  </thead>\n",
       "  <tbody>\n",
       "    <tr>\n",
       "      <th>count</th>\n",
       "      <td>3907.000000</td>\n",
       "      <td>3907.000000</td>\n",
       "      <td>3907.000000</td>\n",
       "    </tr>\n",
       "    <tr>\n",
       "      <th>mean</th>\n",
       "      <td>24.120553</td>\n",
       "      <td>140.057077</td>\n",
       "      <td>8.926542</td>\n",
       "    </tr>\n",
       "    <tr>\n",
       "      <th>std</th>\n",
       "      <td>4.935638</td>\n",
       "      <td>131.694425</td>\n",
       "      <td>20.518234</td>\n",
       "    </tr>\n",
       "    <tr>\n",
       "      <th>min</th>\n",
       "      <td>18.000000</td>\n",
       "      <td>0.000000</td>\n",
       "      <td>0.000000</td>\n",
       "    </tr>\n",
       "    <tr>\n",
       "      <th>25%</th>\n",
       "      <td>20.000000</td>\n",
       "      <td>15.000000</td>\n",
       "      <td>0.000000</td>\n",
       "    </tr>\n",
       "    <tr>\n",
       "      <th>50%</th>\n",
       "      <td>24.000000</td>\n",
       "      <td>115.000000</td>\n",
       "      <td>0.000000</td>\n",
       "    </tr>\n",
       "    <tr>\n",
       "      <th>75%</th>\n",
       "      <td>28.000000</td>\n",
       "      <td>224.500000</td>\n",
       "      <td>6.000000</td>\n",
       "    </tr>\n",
       "    <tr>\n",
       "      <th>max</th>\n",
       "      <td>41.000000</td>\n",
       "      <td>715.000000</td>\n",
       "      <td>180.000000</td>\n",
       "    </tr>\n",
       "  </tbody>\n",
       "</table>\n",
       "</div>"
      ],
      "text/plain": [
       "               Age         Apps         Caps\n",
       "count  3907.000000  3907.000000  3907.000000\n",
       "mean     24.120553   140.057077     8.926542\n",
       "std       4.935638   131.694425    20.518234\n",
       "min      18.000000     0.000000     0.000000\n",
       "25%      20.000000    15.000000     0.000000\n",
       "50%      24.000000   115.000000     0.000000\n",
       "75%      28.000000   224.500000     6.000000\n",
       "max      41.000000   715.000000   180.000000"
      ]
     },
     "execution_count": 7,
     "metadata": {},
     "output_type": "execute_result"
    }
   ],
   "source": [
    "df.describe()"
   ]
  },
  {
   "cell_type": "code",
   "execution_count": 8,
   "id": "09749abc-af4b-47b4-9675-f9e6face4fff",
   "metadata": {
    "tags": []
   },
   "outputs": [
    {
     "data": {
      "text/plain": [
       "Wage        0\n",
       "Age         0\n",
       "Club        0\n",
       "League      0\n",
       "Nation      0\n",
       "Position    0\n",
       "Apps        0\n",
       "Caps        0\n",
       "dtype: int64"
      ]
     },
     "execution_count": 8,
     "metadata": {},
     "output_type": "execute_result"
    }
   ],
   "source": [
    "df.isna().sum()"
   ]
  },
  {
   "cell_type": "code",
   "execution_count": 9,
   "id": "78289b9b-ed77-445b-95c8-2a8b93a4e635",
   "metadata": {
    "tags": []
   },
   "outputs": [
    {
     "data": {
      "text/plain": [
       "65"
      ]
     },
     "execution_count": 9,
     "metadata": {},
     "output_type": "execute_result"
    }
   ],
   "source": [
    "df.duplicated().sum()"
   ]
  },
  {
   "cell_type": "code",
   "execution_count": 10,
   "id": "5deb5a99-6668-4f7e-83f7-5ed8aa5efb04",
   "metadata": {
    "tags": []
   },
   "outputs": [
    {
     "data": {
      "image/png": "[encoded data removed]",
      "text/plain": [
       "<Figure size 640x480 with 1 Axes>"
      ]
     },
     "metadata": {},
     "output_type": "display_data"
    }
   ],
   "source": [
    "plt.hist(df[\"Age\"],bins = 20, color = \"skyblue\",edgecolor = \"black\")\n",
    "plt.title(\"Distribution of Age\")\n",
    "plt.xlabel(\"Age\")\n",
    "plt.ylabel(\"Frequency\")\n",
    "plt.show()"
   ]
  },
  {
   "cell_type": "code",
   "execution_count": 11,
   "id": "9d94cafb-e622-4411-8568-8dac75c5ecb7",
   "metadata": {
    "tags": []
   },
   "outputs": [
    {
     "data": {
      "text/plain": [
       "str"
      ]
     },
     "execution_count": 11,
     "metadata": {},
     "output_type": "execute_result"
    }
   ],
   "source": [
    "type(df[\"Wage\"][0])"
   ]
  },
  {
   "cell_type": "code",
   "execution_count": 12,
   "id": "96e2959e-487a-415e-9e0f-42b50e83b4a9",
   "metadata": {
    "tags": []
   },
   "outputs": [],
   "source": [
    "df[\"Wage\"] = df[\"Wage\"].replace({\",\":\"\"}, regex = True).astype(int)"
   ]
  },
  {
   "cell_type": "code",
   "execution_count": 13,
   "id": "66373975-1310-4f29-9516-20a7b8113c36",
   "metadata": {
    "tags": []
   },
   "outputs": [
    {
     "data": {
      "text/plain": [
       "numpy.int64"
      ]
     },
     "execution_count": 13,
     "metadata": {},
     "output_type": "execute_result"
    }
   ],
   "source": [
    "type(df[\"Wage\"][0])"
   ]
  },
  {
   "cell_type": "code",
   "execution_count": 14,
   "id": "67794c12-738e-4352-ba03-c8484c956d1b",
   "metadata": {
    "tags": []
   },
   "outputs": [
    {
     "data": {
      "text/plain": [
       "Position\n",
       "Defender      1.299439e+06\n",
       "Forward       1.342720e+06\n",
       "Goalkeeper    1.017645e+06\n",
       "Midfilder     1.603824e+06\n",
       "Name: Wage, dtype: float64"
      ]
     },
     "execution_count": 14,
     "metadata": {},
     "output_type": "execute_result"
    }
   ],
   "source": [
    "df.groupby(\"Position\")[\"Wage\"].mean()"
   ]
  },
  {
   "cell_type": "code",
   "execution_count": 15,
   "id": "c3465012-3d25-4692-81dc-01500d0ad8de",
   "metadata": {
    "tags": []
   },
   "outputs": [
    {
     "data": {
      "text/plain": [
       "Club\n",
       "MRT            64\n",
       "BRG            61\n",
       "VIZ            57\n",
       "Chelsea        54\n",
       "Gil Vicente    51\n",
       "               ..\n",
       "FC Lorient     21\n",
       "OL             21\n",
       "AS Monaco      21\n",
       "PSG            20\n",
       "Clermont       18\n",
       "Name: count, Length: 116, dtype: int64"
      ]
     },
     "execution_count": 15,
     "metadata": {},
     "output_type": "execute_result"
    }
   ],
   "source": [
    "df[\"Club\"].value_counts()"
   ]
  },
  {
   "cell_type": "code",
   "execution_count": 16,
   "id": "2e6711e5-3ba1-4ef0-83f2-0faf103cc2b7",
   "metadata": {
    "tags": []
   },
   "outputs": [],
   "source": [
    "top_nations = df[\"Nation\"].value_counts().head(10)"
   ]
  },
  {
   "cell_type": "code",
   "execution_count": 17,
   "id": "0f5d1d65-ceb4-450c-9533-de80a2d94c72",
   "metadata": {
    "tags": []
   },
   "outputs": [
    {
     "data": {
      "image/png": "[encoded data removed]",
      "text/plain": [
       "<Figure size 640x480 with 1 Axes>"
      ]
     },
     "metadata": {},
     "output_type": "display_data"
    }
   ],
   "source": [
    "top_nations.plot(kind = \"bar\",color = \"yellow\")\n",
    "plt.title(\"Top 10 Nations with the Most Players\")\n",
    "plt.xlabel(\"Nation\")\n",
    "plt.ylabel(\"Number of the Players\")\n",
    "plt.show()"
   ]
  },
  {
   "cell_type": "code",
   "execution_count": 18,
   "id": "6361a1cb-b4c8-41bf-804e-4198a891d542",
   "metadata": {
    "tags": []
   },
   "outputs": [
    {
     "data": {
      "text/plain": [
       "League\n",
       "Premier League       875\n",
       "Primiera Liga        747\n",
       "Serie A              670\n",
       "La Liga              594\n",
       "Bundesliga           557\n",
       "Ligue 1 Uber Eats    464\n",
       "Name: count, dtype: int64"
      ]
     },
     "execution_count": 18,
     "metadata": {},
     "output_type": "execute_result"
    }
   ],
   "source": [
    "df[\"League\"].value_counts()"
   ]
  },
  {
   "cell_type": "code",
   "execution_count": 19,
   "id": "3dffc6ed-ad58-41b5-9bb1-4cbd4080aee5",
   "metadata": {
    "tags": []
   },
   "outputs": [
    {
     "data": {
      "text/plain": [
       "<pandas.core.groupby.generic.DataFrameGroupBy object at 0x1281d4b80>"
      ]
     },
     "execution_count": 19,
     "metadata": {},
     "output_type": "execute_result"
    }
   ],
   "source": [
    "df.groupby(\"Club\")"
   ]
  },
  {
   "cell_type": "code",
   "execution_count": 20,
   "id": "c362115a-5013-476b-a5d3-86deffe6aac4",
   "metadata": {
    "tags": []
   },
   "outputs": [],
   "source": [
    "top_clubs_average_age = df.groupby(\"Club\")[\"Age\"].mean().nlargest(5)"
   ]
  },
  {
   "cell_type": "code",
   "execution_count": 21,
   "id": "125efd28-0d09-4d9b-bff5-8035fc368074",
   "metadata": {
    "tags": []
   },
   "outputs": [
    {
     "data": {
      "image/png": "[encoded data removed]",
      "text/plain": [
       "<Figure size 640x480 with 1 Axes>"
      ]
     },
     "metadata": {},
     "output_type": "display_data"
    }
   ],
   "source": [
    "top_clubs_average_age.plot(kind = \"bar\", color = \"purple\")\n",
    "plt.title(\"Top 5 Clubs with Highest Average Age\")\n",
    "plt.xlabel(\"Club\")\n",
    "plt.ylabel(\"Average Age\")\n",
    "plt.show()"
   ]
  },
  {
   "cell_type": "code",
   "execution_count": 22,
   "id": "090dc3bc-f5c6-4f60-ade2-4640453e8c75",
   "metadata": {
    "tags": []
   },
   "outputs": [],
   "source": [
    "league_distribution = df[\"League\"].value_counts()"
   ]
  },
  {
   "cell_type": "code",
   "execution_count": 23,
   "id": "0e1d6761-a124-4b03-8393-9f6bb5c79969",
   "metadata": {
    "tags": []
   },
   "outputs": [
    {
     "data": {
      "image/png": "[encoded data removed]",
      "text/plain": [
       "<Figure size 640x480 with 1 Axes>"
      ]
     },
     "metadata": {},
     "output_type": "display_data"
    }
   ],
   "source": [
    "plt.pie(league_distribution, labels = league_distribution.index, autopct = \"%1.1f%%\",startangle = 90)\n",
    "plt.title(\"Distribution of Players Across Leagues\")\n",
    "plt.show()"
   ]
  },
  {
   "cell_type": "code",
   "execution_count": 24,
   "id": "3e46971f-feac-4955-842d-e42804d3a29b",
   "metadata": {
    "tags": []
   },
   "outputs": [
    {
     "data": {
      "image/png": "[encoded data removed]",
      "text/plain": [
       "<Figure size 640x480 with 1 Axes>"
      ]
     },
     "metadata": {},
     "output_type": "display_data"
    }
   ],
   "source": [
    "club_apps = df.groupby(\"Club\")[\"Apps\"].sum().sort_values(ascending=False).head(20)\n",
    "club_apps.plot(kind = \"bar\",stacked=True,colormap = \"viridis\")\n",
    "plt.title(\"Total Appearances by Club\")\n",
    "plt.xlabel(\"Club\")\n",
    "plt.ylabel(\"Appearances\")\n",
    "plt.show()"
   ]
  },
  {
   "cell_type": "code",
   "execution_count": 25,
   "id": "6d7f6b4e-079f-471b-bcbd-ee817580d1d3",
   "metadata": {
    "tags": []
   },
   "outputs": [
    {
     "data": {
      "image/png": "[encoded data removed]",
      "text/plain": [
       "<Figure size 640x480 with 1 Axes>"
      ]
     },
     "metadata": {},
     "output_type": "display_data"
    }
   ],
   "source": [
    "club_apps = df.groupby(\"Club\")[\"Apps\"].sum().head(20)\n",
    "club_apps.plot(kind = \"bar\",stacked=True,colormap = \"viridis\")\n",
    "plt.title(\"Total Appearances by Club\")\n",
    "plt.xlabel(\"Club\")\n",
    "plt.ylabel(\"Appearances\")\n",
    "plt.show()"
   ]
  },
  {
   "cell_type": "code",
   "execution_count": 26,
   "id": "fcc314fb-c06a-4a68-887d-1c870ee905cb",
   "metadata": {
    "tags": []
   },
   "outputs": [
    {
     "data": {
      "text/html": [
       "<div>\n",
       "<style scoped>\n",
       "    .dataframe tbody tr th:only-of-type {\n",
       "        vertical-align: middle;\n",
       "    }\n",
       "\n",
       "    .dataframe tbody tr th {\n",
       "        vertical-align: top;\n",
       "    }\n",
       "\n",
       "    .dataframe thead th {\n",
       "        text-align: right;\n",
       "    }\n",
       "</style>\n",
       "<table border=\"1\" class=\"dataframe\">\n",
       "  <thead>\n",
       "    <tr style=\"text-align: right;\">\n",
       "      <th></th>\n",
       "      <th>Wage</th>\n",
       "      <th>Age</th>\n",
       "      <th>Club</th>\n",
       "      <th>League</th>\n",
       "      <th>Nation</th>\n",
       "      <th>Position</th>\n",
       "      <th>Apps</th>\n",
       "      <th>Caps</th>\n",
       "    </tr>\n",
       "  </thead>\n",
       "  <tbody>\n",
       "    <tr>\n",
       "      <th>0</th>\n",
       "      <td>46427000</td>\n",
       "      <td>23</td>\n",
       "      <td>PSG</td>\n",
       "      <td>Ligue 1 Uber Eats</td>\n",
       "      <td>FRA</td>\n",
       "      <td>Forward</td>\n",
       "      <td>190</td>\n",
       "      <td>57</td>\n",
       "    </tr>\n",
       "    <tr>\n",
       "      <th>1</th>\n",
       "      <td>42125000</td>\n",
       "      <td>30</td>\n",
       "      <td>PSG</td>\n",
       "      <td>Ligue 1 Uber Eats</td>\n",
       "      <td>BRA</td>\n",
       "      <td>Midfilder</td>\n",
       "      <td>324</td>\n",
       "      <td>119</td>\n",
       "    </tr>\n",
       "    <tr>\n",
       "      <th>2</th>\n",
       "      <td>34821000</td>\n",
       "      <td>35</td>\n",
       "      <td>PSG</td>\n",
       "      <td>Ligue 1 Uber Eats</td>\n",
       "      <td>ARG</td>\n",
       "      <td>Forward</td>\n",
       "      <td>585</td>\n",
       "      <td>162</td>\n",
       "    </tr>\n",
       "    <tr>\n",
       "      <th>3</th>\n",
       "      <td>19959000</td>\n",
       "      <td>31</td>\n",
       "      <td>R. Madrid</td>\n",
       "      <td>La Liga</td>\n",
       "      <td>BEL</td>\n",
       "      <td>Forward</td>\n",
       "      <td>443</td>\n",
       "      <td>120</td>\n",
       "    </tr>\n",
       "    <tr>\n",
       "      <th>4</th>\n",
       "      <td>19500000</td>\n",
       "      <td>31</td>\n",
       "      <td>Man UFC</td>\n",
       "      <td>Premier League</td>\n",
       "      <td>ESP</td>\n",
       "      <td>Goalkeeper</td>\n",
       "      <td>480</td>\n",
       "      <td>45</td>\n",
       "    </tr>\n",
       "    <tr>\n",
       "      <th>...</th>\n",
       "      <td>...</td>\n",
       "      <td>...</td>\n",
       "      <td>...</td>\n",
       "      <td>...</td>\n",
       "      <td>...</td>\n",
       "      <td>...</td>\n",
       "      <td>...</td>\n",
       "      <td>...</td>\n",
       "    </tr>\n",
       "    <tr>\n",
       "      <th>3902</th>\n",
       "      <td>3400</td>\n",
       "      <td>19</td>\n",
       "      <td>Vigo</td>\n",
       "      <td>La Liga</td>\n",
       "      <td>ESP</td>\n",
       "      <td>Defender</td>\n",
       "      <td>0</td>\n",
       "      <td>0</td>\n",
       "    </tr>\n",
       "    <tr>\n",
       "      <th>3903</th>\n",
       "      <td>3200</td>\n",
       "      <td>18</td>\n",
       "      <td>Famalicao</td>\n",
       "      <td>Primiera Liga</td>\n",
       "      <td>BRA</td>\n",
       "      <td>Goalkeeper</td>\n",
       "      <td>0</td>\n",
       "      <td>0</td>\n",
       "    </tr>\n",
       "    <tr>\n",
       "      <th>3904</th>\n",
       "      <td>2900</td>\n",
       "      <td>18</td>\n",
       "      <td>Vigo</td>\n",
       "      <td>La Liga</td>\n",
       "      <td>ESP</td>\n",
       "      <td>Forward</td>\n",
       "      <td>0</td>\n",
       "      <td>0</td>\n",
       "    </tr>\n",
       "    <tr>\n",
       "      <th>3905</th>\n",
       "      <td>2700</td>\n",
       "      <td>18</td>\n",
       "      <td>Vigo</td>\n",
       "      <td>La Liga</td>\n",
       "      <td>ESP</td>\n",
       "      <td>Defender</td>\n",
       "      <td>0</td>\n",
       "      <td>0</td>\n",
       "    </tr>\n",
       "    <tr>\n",
       "      <th>3906</th>\n",
       "      <td>1400</td>\n",
       "      <td>18</td>\n",
       "      <td>Vigo</td>\n",
       "      <td>La Liga</td>\n",
       "      <td>ESP</td>\n",
       "      <td>Defender</td>\n",
       "      <td>0</td>\n",
       "      <td>0</td>\n",
       "    </tr>\n",
       "  </tbody>\n",
       "</table>\n",
       "<p>3907 rows × 8 columns</p>\n",
       "</div>"
      ],
      "text/plain": [
       "          Wage  Age       Club             League Nation    Position  Apps  \\\n",
       "0     46427000   23        PSG  Ligue 1 Uber Eats    FRA     Forward   190   \n",
       "1     42125000   30        PSG  Ligue 1 Uber Eats    BRA   Midfilder   324   \n",
       "2     34821000   35        PSG  Ligue 1 Uber Eats    ARG     Forward   585   \n",
       "3     19959000   31  R. Madrid            La Liga    BEL     Forward   443   \n",
       "4     19500000   31    Man UFC     Premier League    ESP  Goalkeeper   480   \n",
       "...        ...  ...        ...                ...    ...         ...   ...   \n",
       "3902      3400   19       Vigo            La Liga    ESP    Defender     0   \n",
       "3903      3200   18  Famalicao      Primiera Liga    BRA  Goalkeeper     0   \n",
       "3904      2900   18       Vigo            La Liga    ESP     Forward     0   \n",
       "3905      2700   18       Vigo            La Liga    ESP    Defender     0   \n",
       "3906      1400   18       Vigo            La Liga    ESP    Defender     0   \n",
       "\n",
       "      Caps  \n",
       "0       57  \n",
       "1      119  \n",
       "2      162  \n",
       "3      120  \n",
       "4       45  \n",
       "...    ...  \n",
       "3902     0  \n",
       "3903     0  \n",
       "3904     0  \n",
       "3905     0  \n",
       "3906     0  \n",
       "\n",
       "[3907 rows x 8 columns]"
      ]
     },
     "execution_count": 26,
     "metadata": {},
     "output_type": "execute_result"
    }
   ],
   "source": [
    "df"
   ]
  },
  {
   "cell_type": "code",
   "execution_count": 27,
   "id": "d6cb45b8-da3f-4a1a-912c-4cd6b0e17642",
   "metadata": {
    "tags": []
   },
   "outputs": [],
   "source": [
    "from sklearn import preprocessing\n",
    "labelencoder = preprocessing.LabelEncoder()\n",
    "df[\"League\"] = labelencoder.fit_transform(df[\"League\"])"
   ]
  },
  {
   "cell_type": "code",
   "execution_count": 28,
   "id": "7bbfa9a0-1d0b-444d-b19b-a2b997dfae94",
   "metadata": {
    "tags": []
   },
   "outputs": [
    {
     "data": {
      "text/html": [
       "<div>\n",
       "<style scoped>\n",
       "    .dataframe tbody tr th:only-of-type {\n",
       "        vertical-align: middle;\n",
       "    }\n",
       "\n",
       "    .dataframe tbody tr th {\n",
       "        vertical-align: top;\n",
       "    }\n",
       "\n",
       "    .dataframe thead th {\n",
       "        text-align: right;\n",
       "    }\n",
       "</style>\n",
       "<table border=\"1\" class=\"dataframe\">\n",
       "  <thead>\n",
       "    <tr style=\"text-align: right;\">\n",
       "      <th></th>\n",
       "      <th>Wage</th>\n",
       "      <th>Age</th>\n",
       "      <th>Club</th>\n",
       "      <th>League</th>\n",
       "      <th>Nation</th>\n",
       "      <th>Position</th>\n",
       "      <th>Apps</th>\n",
       "      <th>Caps</th>\n",
       "    </tr>\n",
       "  </thead>\n",
       "  <tbody>\n",
       "    <tr>\n",
       "      <th>0</th>\n",
       "      <td>46427000</td>\n",
       "      <td>23</td>\n",
       "      <td>PSG</td>\n",
       "      <td>2</td>\n",
       "      <td>FRA</td>\n",
       "      <td>Forward</td>\n",
       "      <td>190</td>\n",
       "      <td>57</td>\n",
       "    </tr>\n",
       "    <tr>\n",
       "      <th>1</th>\n",
       "      <td>42125000</td>\n",
       "      <td>30</td>\n",
       "      <td>PSG</td>\n",
       "      <td>2</td>\n",
       "      <td>BRA</td>\n",
       "      <td>Midfilder</td>\n",
       "      <td>324</td>\n",
       "      <td>119</td>\n",
       "    </tr>\n",
       "    <tr>\n",
       "      <th>2</th>\n",
       "      <td>34821000</td>\n",
       "      <td>35</td>\n",
       "      <td>PSG</td>\n",
       "      <td>2</td>\n",
       "      <td>ARG</td>\n",
       "      <td>Forward</td>\n",
       "      <td>585</td>\n",
       "      <td>162</td>\n",
       "    </tr>\n",
       "    <tr>\n",
       "      <th>3</th>\n",
       "      <td>19959000</td>\n",
       "      <td>31</td>\n",
       "      <td>R. Madrid</td>\n",
       "      <td>1</td>\n",
       "      <td>BEL</td>\n",
       "      <td>Forward</td>\n",
       "      <td>443</td>\n",
       "      <td>120</td>\n",
       "    </tr>\n",
       "    <tr>\n",
       "      <th>4</th>\n",
       "      <td>19500000</td>\n",
       "      <td>31</td>\n",
       "      <td>Man UFC</td>\n",
       "      <td>3</td>\n",
       "      <td>ESP</td>\n",
       "      <td>Goalkeeper</td>\n",
       "      <td>480</td>\n",
       "      <td>45</td>\n",
       "    </tr>\n",
       "    <tr>\n",
       "      <th>...</th>\n",
       "      <td>...</td>\n",
       "      <td>...</td>\n",
       "      <td>...</td>\n",
       "      <td>...</td>\n",
       "      <td>...</td>\n",
       "      <td>...</td>\n",
       "      <td>...</td>\n",
       "      <td>...</td>\n",
       "    </tr>\n",
       "    <tr>\n",
       "      <th>3902</th>\n",
       "      <td>3400</td>\n",
       "      <td>19</td>\n",
       "      <td>Vigo</td>\n",
       "      <td>1</td>\n",
       "      <td>ESP</td>\n",
       "      <td>Defender</td>\n",
       "      <td>0</td>\n",
       "      <td>0</td>\n",
       "    </tr>\n",
       "    <tr>\n",
       "      <th>3903</th>\n",
       "      <td>3200</td>\n",
       "      <td>18</td>\n",
       "      <td>Famalicao</td>\n",
       "      <td>4</td>\n",
       "      <td>BRA</td>\n",
       "      <td>Goalkeeper</td>\n",
       "      <td>0</td>\n",
       "      <td>0</td>\n",
       "    </tr>\n",
       "    <tr>\n",
       "      <th>3904</th>\n",
       "      <td>2900</td>\n",
       "      <td>18</td>\n",
       "      <td>Vigo</td>\n",
       "      <td>1</td>\n",
       "      <td>ESP</td>\n",
       "      <td>Forward</td>\n",
       "      <td>0</td>\n",
       "      <td>0</td>\n",
       "    </tr>\n",
       "    <tr>\n",
       "      <th>3905</th>\n",
       "      <td>2700</td>\n",
       "      <td>18</td>\n",
       "      <td>Vigo</td>\n",
       "      <td>1</td>\n",
       "      <td>ESP</td>\n",
       "      <td>Defender</td>\n",
       "      <td>0</td>\n",
       "      <td>0</td>\n",
       "    </tr>\n",
       "    <tr>\n",
       "      <th>3906</th>\n",
       "      <td>1400</td>\n",
       "      <td>18</td>\n",
       "      <td>Vigo</td>\n",
       "      <td>1</td>\n",
       "      <td>ESP</td>\n",
       "      <td>Defender</td>\n",
       "      <td>0</td>\n",
       "      <td>0</td>\n",
       "    </tr>\n",
       "  </tbody>\n",
       "</table>\n",
       "<p>3907 rows × 8 columns</p>\n",
       "</div>"
      ],
      "text/plain": [
       "          Wage  Age       Club  League Nation    Position  Apps  Caps\n",
       "0     46427000   23        PSG       2    FRA     Forward   190    57\n",
       "1     42125000   30        PSG       2    BRA   Midfilder   324   119\n",
       "2     34821000   35        PSG       2    ARG     Forward   585   162\n",
       "3     19959000   31  R. Madrid       1    BEL     Forward   443   120\n",
       "4     19500000   31    Man UFC       3    ESP  Goalkeeper   480    45\n",
       "...        ...  ...        ...     ...    ...         ...   ...   ...\n",
       "3902      3400   19       Vigo       1    ESP    Defender     0     0\n",
       "3903      3200   18  Famalicao       4    BRA  Goalkeeper     0     0\n",
       "3904      2900   18       Vigo       1    ESP     Forward     0     0\n",
       "3905      2700   18       Vigo       1    ESP    Defender     0     0\n",
       "3906      1400   18       Vigo       1    ESP    Defender     0     0\n",
       "\n",
       "[3907 rows x 8 columns]"
      ]
     },
     "execution_count": 28,
     "metadata": {},
     "output_type": "execute_result"
    }
   ],
   "source": [
    "df"
   ]
  },
  {
   "cell_type": "code",
   "execution_count": 29,
   "id": "050051a5-f918-4632-a91c-3637993ff29c",
   "metadata": {
    "tags": []
   },
   "outputs": [],
   "source": [
    "X = df.iloc[:,:-1]"
   ]
  },
  {
   "cell_type": "code",
   "execution_count": 30,
   "id": "e58e4948-2508-46cc-b7d1-3f4da633a84d",
   "metadata": {
    "tags": []
   },
   "outputs": [
    {
     "data": {
      "text/html": [
       "<div>\n",
       "<style scoped>\n",
       "    .dataframe tbody tr th:only-of-type {\n",
       "        vertical-align: middle;\n",
       "    }\n",
       "\n",
       "    .dataframe tbody tr th {\n",
       "        vertical-align: top;\n",
       "    }\n",
       "\n",
       "    .dataframe thead th {\n",
       "        text-align: right;\n",
       "    }\n",
       "</style>\n",
       "<table border=\"1\" class=\"dataframe\">\n",
       "  <thead>\n",
       "    <tr style=\"text-align: right;\">\n",
       "      <th></th>\n",
       "      <th>Wage</th>\n",
       "      <th>Age</th>\n",
       "      <th>Club</th>\n",
       "      <th>League</th>\n",
       "      <th>Nation</th>\n",
       "      <th>Position</th>\n",
       "      <th>Apps</th>\n",
       "    </tr>\n",
       "  </thead>\n",
       "  <tbody>\n",
       "    <tr>\n",
       "      <th>0</th>\n",
       "      <td>46427000</td>\n",
       "      <td>23</td>\n",
       "      <td>PSG</td>\n",
       "      <td>2</td>\n",
       "      <td>FRA</td>\n",
       "      <td>Forward</td>\n",
       "      <td>190</td>\n",
       "    </tr>\n",
       "    <tr>\n",
       "      <th>1</th>\n",
       "      <td>42125000</td>\n",
       "      <td>30</td>\n",
       "      <td>PSG</td>\n",
       "      <td>2</td>\n",
       "      <td>BRA</td>\n",
       "      <td>Midfilder</td>\n",
       "      <td>324</td>\n",
       "    </tr>\n",
       "    <tr>\n",
       "      <th>2</th>\n",
       "      <td>34821000</td>\n",
       "      <td>35</td>\n",
       "      <td>PSG</td>\n",
       "      <td>2</td>\n",
       "      <td>ARG</td>\n",
       "      <td>Forward</td>\n",
       "      <td>585</td>\n",
       "    </tr>\n",
       "    <tr>\n",
       "      <th>3</th>\n",
       "      <td>19959000</td>\n",
       "      <td>31</td>\n",
       "      <td>R. Madrid</td>\n",
       "      <td>1</td>\n",
       "      <td>BEL</td>\n",
       "      <td>Forward</td>\n",
       "      <td>443</td>\n",
       "    </tr>\n",
       "    <tr>\n",
       "      <th>4</th>\n",
       "      <td>19500000</td>\n",
       "      <td>31</td>\n",
       "      <td>Man UFC</td>\n",
       "      <td>3</td>\n",
       "      <td>ESP</td>\n",
       "      <td>Goalkeeper</td>\n",
       "      <td>480</td>\n",
       "    </tr>\n",
       "    <tr>\n",
       "      <th>...</th>\n",
       "      <td>...</td>\n",
       "      <td>...</td>\n",
       "      <td>...</td>\n",
       "      <td>...</td>\n",
       "      <td>...</td>\n",
       "      <td>...</td>\n",
       "      <td>...</td>\n",
       "    </tr>\n",
       "    <tr>\n",
       "      <th>3902</th>\n",
       "      <td>3400</td>\n",
       "      <td>19</td>\n",
       "      <td>Vigo</td>\n",
       "      <td>1</td>\n",
       "      <td>ESP</td>\n",
       "      <td>Defender</td>\n",
       "      <td>0</td>\n",
       "    </tr>\n",
       "    <tr>\n",
       "      <th>3903</th>\n",
       "      <td>3200</td>\n",
       "      <td>18</td>\n",
       "      <td>Famalicao</td>\n",
       "      <td>4</td>\n",
       "      <td>BRA</td>\n",
       "      <td>Goalkeeper</td>\n",
       "      <td>0</td>\n",
       "    </tr>\n",
       "    <tr>\n",
       "      <th>3904</th>\n",
       "      <td>2900</td>\n",
       "      <td>18</td>\n",
       "      <td>Vigo</td>\n",
       "      <td>1</td>\n",
       "      <td>ESP</td>\n",
       "      <td>Forward</td>\n",
       "      <td>0</td>\n",
       "    </tr>\n",
       "    <tr>\n",
       "      <th>3905</th>\n",
       "      <td>2700</td>\n",
       "      <td>18</td>\n",
       "      <td>Vigo</td>\n",
       "      <td>1</td>\n",
       "      <td>ESP</td>\n",
       "      <td>Defender</td>\n",
       "      <td>0</td>\n",
       "    </tr>\n",
       "    <tr>\n",
       "      <th>3906</th>\n",
       "      <td>1400</td>\n",
       "      <td>18</td>\n",
       "      <td>Vigo</td>\n",
       "      <td>1</td>\n",
       "      <td>ESP</td>\n",
       "      <td>Defender</td>\n",
       "      <td>0</td>\n",
       "    </tr>\n",
       "  </tbody>\n",
       "</table>\n",
       "<p>3907 rows × 7 columns</p>\n",
       "</div>"
      ],
      "text/plain": [
       "          Wage  Age       Club  League Nation    Position  Apps\n",
       "0     46427000   23        PSG       2    FRA     Forward   190\n",
       "1     42125000   30        PSG       2    BRA   Midfilder   324\n",
       "2     34821000   35        PSG       2    ARG     Forward   585\n",
       "3     19959000   31  R. Madrid       1    BEL     Forward   443\n",
       "4     19500000   31    Man UFC       3    ESP  Goalkeeper   480\n",
       "...        ...  ...        ...     ...    ...         ...   ...\n",
       "3902      3400   19       Vigo       1    ESP    Defender     0\n",
       "3903      3200   18  Famalicao       4    BRA  Goalkeeper     0\n",
       "3904      2900   18       Vigo       1    ESP     Forward     0\n",
       "3905      2700   18       Vigo       1    ESP    Defender     0\n",
       "3906      1400   18       Vigo       1    ESP    Defender     0\n",
       "\n",
       "[3907 rows x 7 columns]"
      ]
     },
     "execution_count": 30,
     "metadata": {},
     "output_type": "execute_result"
    }
   ],
   "source": [
    "X"
   ]
  },
  {
   "cell_type": "code",
   "execution_count": 31,
   "id": "70cdf390-0a1b-44bb-a77e-047f6fdaba3b",
   "metadata": {
    "tags": []
   },
   "outputs": [],
   "source": [
    "y = df.iloc[:,-1]"
   ]
  },
  {
   "cell_type": "code",
   "execution_count": 32,
   "id": "30a9a8c0-f4b2-432f-8c8f-ddc29160d87f",
   "metadata": {
    "tags": []
   },
   "outputs": [
    {
     "data": {
      "text/plain": [
       "0        57\n",
       "1       119\n",
       "2       162\n",
       "3       120\n",
       "4        45\n",
       "       ... \n",
       "3902      0\n",
       "3903      0\n",
       "3904      0\n",
       "3905      0\n",
       "3906      0\n",
       "Name: Caps, Length: 3907, dtype: int64"
      ]
     },
     "execution_count": 32,
     "metadata": {},
     "output_type": "execute_result"
    }
   ],
   "source": [
    "y"
   ]
  },
  {
   "cell_type": "code",
   "execution_count": 33,
   "id": "e99f82e8-5f3e-46ec-a81a-34dadaff3a0c",
   "metadata": {
    "tags": []
   },
   "outputs": [],
   "source": [
    "from sklearn.model_selection import train_test_split\n",
    "X_train, X_test, y_train, y_test = train_test_split(X,y, test_size = 0.2)"
   ]
  },
  {
   "cell_type": "code",
   "execution_count": 34,
   "id": "2b79b272-86c8-45c5-af89-0256b46a3c02",
   "metadata": {
    "tags": []
   },
   "outputs": [
    {
     "data": {
      "text/html": [
       "<div>\n",
       "<style scoped>\n",
       "    .dataframe tbody tr th:only-of-type {\n",
       "        vertical-align: middle;\n",
       "    }\n",
       "\n",
       "    .dataframe tbody tr th {\n",
       "        vertical-align: top;\n",
       "    }\n",
       "\n",
       "    .dataframe thead th {\n",
       "        text-align: right;\n",
       "    }\n",
       "</style>\n",
       "<table border=\"1\" class=\"dataframe\">\n",
       "  <thead>\n",
       "    <tr style=\"text-align: right;\">\n",
       "      <th></th>\n",
       "      <th>Wage</th>\n",
       "      <th>Age</th>\n",
       "      <th>Club</th>\n",
       "      <th>League</th>\n",
       "      <th>Nation</th>\n",
       "      <th>Position</th>\n",
       "      <th>Apps</th>\n",
       "    </tr>\n",
       "  </thead>\n",
       "  <tbody>\n",
       "    <tr>\n",
       "      <th>1226</th>\n",
       "      <td>1103000</td>\n",
       "      <td>31</td>\n",
       "      <td>Spezia</td>\n",
       "      <td>5</td>\n",
       "      <td>NED</td>\n",
       "      <td>Goalkeeper</td>\n",
       "      <td>293</td>\n",
       "    </tr>\n",
       "    <tr>\n",
       "      <th>2126</th>\n",
       "      <td>299000</td>\n",
       "      <td>21</td>\n",
       "      <td>Almeria</td>\n",
       "      <td>1</td>\n",
       "      <td>ESP</td>\n",
       "      <td>Midfilder</td>\n",
       "      <td>37</td>\n",
       "    </tr>\n",
       "    <tr>\n",
       "      <th>389</th>\n",
       "      <td>3640000</td>\n",
       "      <td>33</td>\n",
       "      <td>Nottm Forest</td>\n",
       "      <td>3</td>\n",
       "      <td>BRA</td>\n",
       "      <td>Defender</td>\n",
       "      <td>264</td>\n",
       "    </tr>\n",
       "    <tr>\n",
       "      <th>2292</th>\n",
       "      <td>224000</td>\n",
       "      <td>39</td>\n",
       "      <td>Strasbourg</td>\n",
       "      <td>2</td>\n",
       "      <td>JPN</td>\n",
       "      <td>Goalkeeper</td>\n",
       "      <td>397</td>\n",
       "    </tr>\n",
       "    <tr>\n",
       "      <th>2866</th>\n",
       "      <td>78500</td>\n",
       "      <td>23</td>\n",
       "      <td>VIZ</td>\n",
       "      <td>4</td>\n",
       "      <td>POR</td>\n",
       "      <td>Midfilder</td>\n",
       "      <td>60</td>\n",
       "    </tr>\n",
       "    <tr>\n",
       "      <th>...</th>\n",
       "      <td>...</td>\n",
       "      <td>...</td>\n",
       "      <td>...</td>\n",
       "      <td>...</td>\n",
       "      <td>...</td>\n",
       "      <td>...</td>\n",
       "      <td>...</td>\n",
       "    </tr>\n",
       "    <tr>\n",
       "      <th>2557</th>\n",
       "      <td>135000</td>\n",
       "      <td>26</td>\n",
       "      <td>Gil Vicente</td>\n",
       "      <td>4</td>\n",
       "      <td>IRN</td>\n",
       "      <td>Forward</td>\n",
       "      <td>272</td>\n",
       "    </tr>\n",
       "    <tr>\n",
       "      <th>2609</th>\n",
       "      <td>130000</td>\n",
       "      <td>19</td>\n",
       "      <td>Liverpool</td>\n",
       "      <td>3</td>\n",
       "      <td>POL</td>\n",
       "      <td>Goalkeeper</td>\n",
       "      <td>31</td>\n",
       "    </tr>\n",
       "    <tr>\n",
       "      <th>931</th>\n",
       "      <td>1595000</td>\n",
       "      <td>26</td>\n",
       "      <td>Empoli</td>\n",
       "      <td>5</td>\n",
       "      <td>ROU</td>\n",
       "      <td>Midfilder</td>\n",
       "      <td>252</td>\n",
       "    </tr>\n",
       "    <tr>\n",
       "      <th>268</th>\n",
       "      <td>4940000</td>\n",
       "      <td>25</td>\n",
       "      <td>West Ham</td>\n",
       "      <td>3</td>\n",
       "      <td>GER</td>\n",
       "      <td>Defender</td>\n",
       "      <td>155</td>\n",
       "    </tr>\n",
       "    <tr>\n",
       "      <th>2472</th>\n",
       "      <td>156000</td>\n",
       "      <td>18</td>\n",
       "      <td>Aston Villa</td>\n",
       "      <td>3</td>\n",
       "      <td>POL</td>\n",
       "      <td>Goalkeeper</td>\n",
       "      <td>0</td>\n",
       "    </tr>\n",
       "  </tbody>\n",
       "</table>\n",
       "<p>3125 rows × 7 columns</p>\n",
       "</div>"
      ],
      "text/plain": [
       "         Wage  Age          Club  League Nation    Position  Apps\n",
       "1226  1103000   31        Spezia       5    NED  Goalkeeper   293\n",
       "2126   299000   21       Almeria       1    ESP   Midfilder    37\n",
       "389   3640000   33  Nottm Forest       3    BRA    Defender   264\n",
       "2292   224000   39    Strasbourg       2    JPN  Goalkeeper   397\n",
       "2866    78500   23           VIZ       4    POR   Midfilder    60\n",
       "...       ...  ...           ...     ...    ...         ...   ...\n",
       "2557   135000   26   Gil Vicente       4    IRN     Forward   272\n",
       "2609   130000   19     Liverpool       3    POL  Goalkeeper    31\n",
       "931   1595000   26        Empoli       5    ROU   Midfilder   252\n",
       "268   4940000   25      West Ham       3    GER    Defender   155\n",
       "2472   156000   18   Aston Villa       3    POL  Goalkeeper     0\n",
       "\n",
       "[3125 rows x 7 columns]"
      ]
     },
     "execution_count": 34,
     "metadata": {},
     "output_type": "execute_result"
    }
   ],
   "source": [
    "X_train"
   ]
  },
  {
   "cell_type": "code",
   "execution_count": 35,
   "id": "a656e8bb-a087-4a3f-b1b0-269e54650b95",
   "metadata": {
    "tags": []
   },
   "outputs": [
    {
     "data": {
      "text/html": [
       "<div>\n",
       "<style scoped>\n",
       "    .dataframe tbody tr th:only-of-type {\n",
       "        vertical-align: middle;\n",
       "    }\n",
       "\n",
       "    .dataframe tbody tr th {\n",
       "        vertical-align: top;\n",
       "    }\n",
       "\n",
       "    .dataframe thead th {\n",
       "        text-align: right;\n",
       "    }\n",
       "</style>\n",
       "<table border=\"1\" class=\"dataframe\">\n",
       "  <thead>\n",
       "    <tr style=\"text-align: right;\">\n",
       "      <th></th>\n",
       "      <th>Wage</th>\n",
       "      <th>Age</th>\n",
       "      <th>Club</th>\n",
       "      <th>League</th>\n",
       "      <th>Nation</th>\n",
       "      <th>Position</th>\n",
       "      <th>Apps</th>\n",
       "    </tr>\n",
       "  </thead>\n",
       "  <tbody>\n",
       "    <tr>\n",
       "      <th>1939</th>\n",
       "      <td>408000</td>\n",
       "      <td>31</td>\n",
       "      <td>Mallorca</td>\n",
       "      <td>1</td>\n",
       "      <td>FRA</td>\n",
       "      <td>Midfilder</td>\n",
       "      <td>209</td>\n",
       "    </tr>\n",
       "    <tr>\n",
       "      <th>474</th>\n",
       "      <td>3190000</td>\n",
       "      <td>27</td>\n",
       "      <td>Brianza</td>\n",
       "      <td>5</td>\n",
       "      <td>ITA</td>\n",
       "      <td>Midfilder</td>\n",
       "      <td>197</td>\n",
       "    </tr>\n",
       "    <tr>\n",
       "      <th>3004</th>\n",
       "      <td>65500</td>\n",
       "      <td>26</td>\n",
       "      <td>P. Ferreira</td>\n",
       "      <td>4</td>\n",
       "      <td>POR</td>\n",
       "      <td>Defender</td>\n",
       "      <td>173</td>\n",
       "    </tr>\n",
       "    <tr>\n",
       "      <th>425</th>\n",
       "      <td>3439000</td>\n",
       "      <td>24</td>\n",
       "      <td>Borussia Dortmund</td>\n",
       "      <td>0</td>\n",
       "      <td>TUR</td>\n",
       "      <td>Midfilder</td>\n",
       "      <td>166</td>\n",
       "    </tr>\n",
       "    <tr>\n",
       "      <th>1767</th>\n",
       "      <td>534000</td>\n",
       "      <td>31</td>\n",
       "      <td>Atletico Pamplona</td>\n",
       "      <td>1</td>\n",
       "      <td>CRO</td>\n",
       "      <td>Forward</td>\n",
       "      <td>359</td>\n",
       "    </tr>\n",
       "    <tr>\n",
       "      <th>...</th>\n",
       "      <td>...</td>\n",
       "      <td>...</td>\n",
       "      <td>...</td>\n",
       "      <td>...</td>\n",
       "      <td>...</td>\n",
       "      <td>...</td>\n",
       "      <td>...</td>\n",
       "    </tr>\n",
       "    <tr>\n",
       "      <th>1940</th>\n",
       "      <td>408000</td>\n",
       "      <td>34</td>\n",
       "      <td>Mallorca</td>\n",
       "      <td>1</td>\n",
       "      <td>ESP</td>\n",
       "      <td>Defender</td>\n",
       "      <td>412</td>\n",
       "    </tr>\n",
       "    <tr>\n",
       "      <th>2374</th>\n",
       "      <td>181000</td>\n",
       "      <td>20</td>\n",
       "      <td>Udinese</td>\n",
       "      <td>5</td>\n",
       "      <td>IRL</td>\n",
       "      <td>Defender</td>\n",
       "      <td>40</td>\n",
       "    </tr>\n",
       "    <tr>\n",
       "      <th>2191</th>\n",
       "      <td>269000</td>\n",
       "      <td>26</td>\n",
       "      <td>Empoli</td>\n",
       "      <td>5</td>\n",
       "      <td>NGA</td>\n",
       "      <td>Defender</td>\n",
       "      <td>136</td>\n",
       "    </tr>\n",
       "    <tr>\n",
       "      <th>3272</th>\n",
       "      <td>37000</td>\n",
       "      <td>19</td>\n",
       "      <td>BRG</td>\n",
       "      <td>4</td>\n",
       "      <td>POR</td>\n",
       "      <td>Defender</td>\n",
       "      <td>0</td>\n",
       "    </tr>\n",
       "    <tr>\n",
       "      <th>3552</th>\n",
       "      <td>25000</td>\n",
       "      <td>19</td>\n",
       "      <td>Torino</td>\n",
       "      <td>5</td>\n",
       "      <td>FRA</td>\n",
       "      <td>Defender</td>\n",
       "      <td>0</td>\n",
       "    </tr>\n",
       "  </tbody>\n",
       "</table>\n",
       "<p>782 rows × 7 columns</p>\n",
       "</div>"
      ],
      "text/plain": [
       "         Wage  Age               Club  League Nation   Position  Apps\n",
       "1939   408000   31           Mallorca       1    FRA  Midfilder   209\n",
       "474   3190000   27            Brianza       5    ITA  Midfilder   197\n",
       "3004    65500   26        P. Ferreira       4    POR   Defender   173\n",
       "425   3439000   24  Borussia Dortmund       0    TUR  Midfilder   166\n",
       "1767   534000   31  Atletico Pamplona       1    CRO    Forward   359\n",
       "...       ...  ...                ...     ...    ...        ...   ...\n",
       "1940   408000   34           Mallorca       1    ESP   Defender   412\n",
       "2374   181000   20            Udinese       5    IRL   Defender    40\n",
       "2191   269000   26             Empoli       5    NGA   Defender   136\n",
       "3272    37000   19                BRG       4    POR   Defender     0\n",
       "3552    25000   19             Torino       5    FRA   Defender     0\n",
       "\n",
       "[782 rows x 7 columns]"
      ]
     },
     "execution_count": 35,
     "metadata": {},
     "output_type": "execute_result"
    }
   ],
   "source": [
    "X_test"
   ]
  },
  {
   "cell_type": "code",
   "execution_count": 36,
   "id": "380c1a4c-901a-4b9e-ac22-f416960ca491",
   "metadata": {
    "tags": []
   },
   "outputs": [
    {
     "data": {
      "text/html": [
       "<div>\n",
       "<style scoped>\n",
       "    .dataframe tbody tr th:only-of-type {\n",
       "        vertical-align: middle;\n",
       "    }\n",
       "\n",
       "    .dataframe tbody tr th {\n",
       "        vertical-align: top;\n",
       "    }\n",
       "\n",
       "    .dataframe thead th {\n",
       "        text-align: right;\n",
       "    }\n",
       "</style>\n",
       "<table border=\"1\" class=\"dataframe\">\n",
       "  <thead>\n",
       "    <tr style=\"text-align: right;\">\n",
       "      <th></th>\n",
       "      <th>Wage</th>\n",
       "      <th>Age</th>\n",
       "      <th>Club</th>\n",
       "      <th>League</th>\n",
       "      <th>Nation</th>\n",
       "      <th>Position</th>\n",
       "      <th>Apps</th>\n",
       "    </tr>\n",
       "  </thead>\n",
       "  <tbody>\n",
       "    <tr>\n",
       "      <th>1226</th>\n",
       "      <td>1103000</td>\n",
       "      <td>31</td>\n",
       "      <td>Spezia</td>\n",
       "      <td>5</td>\n",
       "      <td>NED</td>\n",
       "      <td>Goalkeeper</td>\n",
       "      <td>293</td>\n",
       "    </tr>\n",
       "    <tr>\n",
       "      <th>2126</th>\n",
       "      <td>299000</td>\n",
       "      <td>21</td>\n",
       "      <td>Almeria</td>\n",
       "      <td>1</td>\n",
       "      <td>ESP</td>\n",
       "      <td>Midfilder</td>\n",
       "      <td>37</td>\n",
       "    </tr>\n",
       "    <tr>\n",
       "      <th>389</th>\n",
       "      <td>3640000</td>\n",
       "      <td>33</td>\n",
       "      <td>Nottm Forest</td>\n",
       "      <td>3</td>\n",
       "      <td>BRA</td>\n",
       "      <td>Defender</td>\n",
       "      <td>264</td>\n",
       "    </tr>\n",
       "    <tr>\n",
       "      <th>2292</th>\n",
       "      <td>224000</td>\n",
       "      <td>39</td>\n",
       "      <td>Strasbourg</td>\n",
       "      <td>2</td>\n",
       "      <td>JPN</td>\n",
       "      <td>Goalkeeper</td>\n",
       "      <td>397</td>\n",
       "    </tr>\n",
       "    <tr>\n",
       "      <th>2866</th>\n",
       "      <td>78500</td>\n",
       "      <td>23</td>\n",
       "      <td>VIZ</td>\n",
       "      <td>4</td>\n",
       "      <td>POR</td>\n",
       "      <td>Midfilder</td>\n",
       "      <td>60</td>\n",
       "    </tr>\n",
       "    <tr>\n",
       "      <th>...</th>\n",
       "      <td>...</td>\n",
       "      <td>...</td>\n",
       "      <td>...</td>\n",
       "      <td>...</td>\n",
       "      <td>...</td>\n",
       "      <td>...</td>\n",
       "      <td>...</td>\n",
       "    </tr>\n",
       "    <tr>\n",
       "      <th>2557</th>\n",
       "      <td>135000</td>\n",
       "      <td>26</td>\n",
       "      <td>Gil Vicente</td>\n",
       "      <td>4</td>\n",
       "      <td>IRN</td>\n",
       "      <td>Forward</td>\n",
       "      <td>272</td>\n",
       "    </tr>\n",
       "    <tr>\n",
       "      <th>2609</th>\n",
       "      <td>130000</td>\n",
       "      <td>19</td>\n",
       "      <td>Liverpool</td>\n",
       "      <td>3</td>\n",
       "      <td>POL</td>\n",
       "      <td>Goalkeeper</td>\n",
       "      <td>31</td>\n",
       "    </tr>\n",
       "    <tr>\n",
       "      <th>931</th>\n",
       "      <td>1595000</td>\n",
       "      <td>26</td>\n",
       "      <td>Empoli</td>\n",
       "      <td>5</td>\n",
       "      <td>ROU</td>\n",
       "      <td>Midfilder</td>\n",
       "      <td>252</td>\n",
       "    </tr>\n",
       "    <tr>\n",
       "      <th>268</th>\n",
       "      <td>4940000</td>\n",
       "      <td>25</td>\n",
       "      <td>West Ham</td>\n",
       "      <td>3</td>\n",
       "      <td>GER</td>\n",
       "      <td>Defender</td>\n",
       "      <td>155</td>\n",
       "    </tr>\n",
       "    <tr>\n",
       "      <th>2472</th>\n",
       "      <td>156000</td>\n",
       "      <td>18</td>\n",
       "      <td>Aston Villa</td>\n",
       "      <td>3</td>\n",
       "      <td>POL</td>\n",
       "      <td>Goalkeeper</td>\n",
       "      <td>0</td>\n",
       "    </tr>\n",
       "  </tbody>\n",
       "</table>\n",
       "<p>3125 rows × 7 columns</p>\n",
       "</div>"
      ],
      "text/plain": [
       "         Wage  Age          Club  League Nation    Position  Apps\n",
       "1226  1103000   31        Spezia       5    NED  Goalkeeper   293\n",
       "2126   299000   21       Almeria       1    ESP   Midfilder    37\n",
       "389   3640000   33  Nottm Forest       3    BRA    Defender   264\n",
       "2292   224000   39    Strasbourg       2    JPN  Goalkeeper   397\n",
       "2866    78500   23           VIZ       4    POR   Midfilder    60\n",
       "...       ...  ...           ...     ...    ...         ...   ...\n",
       "2557   135000   26   Gil Vicente       4    IRN     Forward   272\n",
       "2609   130000   19     Liverpool       3    POL  Goalkeeper    31\n",
       "931   1595000   26        Empoli       5    ROU   Midfilder   252\n",
       "268   4940000   25      West Ham       3    GER    Defender   155\n",
       "2472   156000   18   Aston Villa       3    POL  Goalkeeper     0\n",
       "\n",
       "[3125 rows x 7 columns]"
      ]
     },
     "execution_count": 36,
     "metadata": {},
     "output_type": "execute_result"
    }
   ],
   "source": [
    "X_train"
   ]
  },
  {
   "cell_type": "code",
   "execution_count": 37,
   "id": "9721381f-9231-425c-ada3-8e6a264dc083",
   "metadata": {},
   "outputs": [
    {
     "ename": "ValueError",
     "evalue": "could not convert string to float: 'Mallorca'",
     "output_type": "error",
     "traceback": [
      "\u001b[0;31m---------------------------------------------------------------------------\u001b[0m",
      "\u001b[0;31mValueError\u001b[0m                                Traceback (most recent call last)",
      "\u001b[0;32m/var/folders/q0/hsp7ys4d1d9cj29bst547lkw0000gn/T/ipykernel_67608/4179778425.py\u001b[0m in \u001b[0;36m?\u001b[0;34m()\u001b[0m\n\u001b[1;32m      1\u001b[0m \u001b[0;32mfrom\u001b[0m \u001b[0msklearn\u001b[0m\u001b[0;34m.\u001b[0m\u001b[0mpreprocessing\u001b[0m \u001b[0;32mimport\u001b[0m \u001b[0mStandardScaler\u001b[0m\u001b[0;34m\u001b[0m\u001b[0;34m\u001b[0m\u001b[0m\n\u001b[1;32m      2\u001b[0m \u001b[0mscaler\u001b[0m \u001b[0;34m=\u001b[0m \u001b[0mStandardScaler\u001b[0m\u001b[0;34m(\u001b[0m\u001b[0;34m)\u001b[0m\u001b[0;34m\u001b[0m\u001b[0;34m\u001b[0m\u001b[0m\n\u001b[0;32m----> 3\u001b[0;31m \u001b[0mscaled_X_test\u001b[0m \u001b[0;34m=\u001b[0m \u001b[0mscaler\u001b[0m\u001b[0;34m.\u001b[0m\u001b[0mfit_transform\u001b[0m\u001b[0;34m(\u001b[0m\u001b[0mX_test\u001b[0m\u001b[0;34m)\u001b[0m\u001b[0;34m\u001b[0m\u001b[0;34m\u001b[0m\u001b[0m\n\u001b[0m\u001b[1;32m      4\u001b[0m \u001b[0mscaled_X_train\u001b[0m \u001b[0;34m=\u001b[0m \u001b[0mscaler\u001b[0m\u001b[0;34m.\u001b[0m\u001b[0mfit_transform\u001b[0m\u001b[0;34m(\u001b[0m\u001b[0mX_train\u001b[0m\u001b[0;34m)\u001b[0m\u001b[0;34m\u001b[0m\u001b[0;34m\u001b[0m\u001b[0m\n",
      "\u001b[0;32m~/miniconda3.2/lib/python3.10/site-packages/sklearn/utils/_set_output.py\u001b[0m in \u001b[0;36m?\u001b[0;34m(self, X, *args, **kwargs)\u001b[0m\n\u001b[1;32m    138\u001b[0m     \u001b[0;34m@\u001b[0m\u001b[0mwraps\u001b[0m\u001b[0;34m(\u001b[0m\u001b[0mf\u001b[0m\u001b[0;34m)\u001b[0m\u001b[0;34m\u001b[0m\u001b[0;34m\u001b[0m\u001b[0m\n\u001b[1;32m    139\u001b[0m     \u001b[0;32mdef\u001b[0m \u001b[0mwrapped\u001b[0m\u001b[0;34m(\u001b[0m\u001b[0mself\u001b[0m\u001b[0;34m,\u001b[0m \u001b[0mX\u001b[0m\u001b[0;34m,\u001b[0m \u001b[0;34m*\u001b[0m\u001b[0margs\u001b[0m\u001b[0;34m,\u001b[0m \u001b[0;34m**\u001b[0m\u001b[0mkwargs\u001b[0m\u001b[0;34m)\u001b[0m\u001b[0;34m:\u001b[0m\u001b[0;34m\u001b[0m\u001b[0;34m\u001b[0m\u001b[0m\n\u001b[0;32m--> 140\u001b[0;31m         \u001b[0mdata_to_wrap\u001b[0m \u001b[0;34m=\u001b[0m \u001b[0mf\u001b[0m\u001b[0;34m(\u001b[0m\u001b[0mself\u001b[0m\u001b[0;34m,\u001b[0m \u001b[0mX\u001b[0m\u001b[0;34m,\u001b[0m \u001b[0;34m*\u001b[0m\u001b[0margs\u001b[0m\u001b[0;34m,\u001b[0m \u001b[0;34m**\u001b[0m\u001b[0mkwargs\u001b[0m\u001b[0;34m)\u001b[0m\u001b[0;34m\u001b[0m\u001b[0;34m\u001b[0m\u001b[0m\n\u001b[0m\u001b[1;32m    141\u001b[0m         \u001b[0;32mif\u001b[0m \u001b[0misinstance\u001b[0m\u001b[0;34m(\u001b[0m\u001b[0mdata_to_wrap\u001b[0m\u001b[0;34m,\u001b[0m \u001b[0mtuple\u001b[0m\u001b[0;34m)\u001b[0m\u001b[0;34m:\u001b[0m\u001b[0;34m\u001b[0m\u001b[0;34m\u001b[0m\u001b[0m\n\u001b[1;32m    142\u001b[0m             \u001b[0;31m# only wrap the first output for cross decomposition\u001b[0m\u001b[0;34m\u001b[0m\u001b[0;34m\u001b[0m\u001b[0m\n\u001b[1;32m    143\u001b[0m             return (\n",
      "\u001b[0;32m~/miniconda3.2/lib/python3.10/site-packages/sklearn/base.py\u001b[0m in \u001b[0;36m?\u001b[0;34m(self, X, y, **fit_params)\u001b[0m\n\u001b[1;32m    874\u001b[0m         \u001b[0;31m# non-optimized default implementation; override when a better\u001b[0m\u001b[0;34m\u001b[0m\u001b[0;34m\u001b[0m\u001b[0m\n\u001b[1;32m    875\u001b[0m         \u001b[0;31m# method is possible for a given clustering algorithm\u001b[0m\u001b[0;34m\u001b[0m\u001b[0;34m\u001b[0m\u001b[0m\n\u001b[1;32m    876\u001b[0m         \u001b[0;32mif\u001b[0m \u001b[0my\u001b[0m \u001b[0;32mis\u001b[0m \u001b[0;32mNone\u001b[0m\u001b[0;34m:\u001b[0m\u001b[0;34m\u001b[0m\u001b[0;34m\u001b[0m\u001b[0m\n\u001b[1;32m    877\u001b[0m             \u001b[0;31m# fit method of arity 1 (unsupervised transformation)\u001b[0m\u001b[0;34m\u001b[0m\u001b[0;34m\u001b[0m\u001b[0m\n\u001b[0;32m--> 878\u001b[0;31m             \u001b[0;32mreturn\u001b[0m \u001b[0mself\u001b[0m\u001b[0;34m.\u001b[0m\u001b[0mfit\u001b[0m\u001b[0;34m(\u001b[0m\u001b[0mX\u001b[0m\u001b[0;34m,\u001b[0m \u001b[0;34m**\u001b[0m\u001b[0mfit_params\u001b[0m\u001b[0;34m)\u001b[0m\u001b[0;34m.\u001b[0m\u001b[0mtransform\u001b[0m\u001b[0;34m(\u001b[0m\u001b[0mX\u001b[0m\u001b[0;34m)\u001b[0m\u001b[0;34m\u001b[0m\u001b[0;34m\u001b[0m\u001b[0m\n\u001b[0m\u001b[1;32m    879\u001b[0m         \u001b[0;32melse\u001b[0m\u001b[0;34m:\u001b[0m\u001b[0;34m\u001b[0m\u001b[0;34m\u001b[0m\u001b[0m\n\u001b[1;32m    880\u001b[0m             \u001b[0;31m# fit method of arity 2 (supervised transformation)\u001b[0m\u001b[0;34m\u001b[0m\u001b[0;34m\u001b[0m\u001b[0m\n\u001b[1;32m    881\u001b[0m             \u001b[0;32mreturn\u001b[0m \u001b[0mself\u001b[0m\u001b[0;34m.\u001b[0m\u001b[0mfit\u001b[0m\u001b[0;34m(\u001b[0m\u001b[0mX\u001b[0m\u001b[0;34m,\u001b[0m \u001b[0my\u001b[0m\u001b[0;34m,\u001b[0m \u001b[0;34m**\u001b[0m\u001b[0mfit_params\u001b[0m\u001b[0;34m)\u001b[0m\u001b[0;34m.\u001b[0m\u001b[0mtransform\u001b[0m\u001b[0;34m(\u001b[0m\u001b[0mX\u001b[0m\u001b[0;34m)\u001b[0m\u001b[0;34m\u001b[0m\u001b[0;34m\u001b[0m\u001b[0m\n",
      "\u001b[0;32m~/miniconda3.2/lib/python3.10/site-packages/sklearn/preprocessing/_data.py\u001b[0m in \u001b[0;36m?\u001b[0;34m(self, X, y, sample_weight)\u001b[0m\n\u001b[1;32m    820\u001b[0m             \u001b[0mFitted\u001b[0m \u001b[0mscaler\u001b[0m\u001b[0;34m.\u001b[0m\u001b[0;34m\u001b[0m\u001b[0;34m\u001b[0m\u001b[0m\n\u001b[1;32m    821\u001b[0m         \"\"\"\n\u001b[1;32m    822\u001b[0m         \u001b[0;31m# Reset internal state before fitting\u001b[0m\u001b[0;34m\u001b[0m\u001b[0;34m\u001b[0m\u001b[0m\n\u001b[1;32m    823\u001b[0m         \u001b[0mself\u001b[0m\u001b[0;34m.\u001b[0m\u001b[0m_reset\u001b[0m\u001b[0;34m(\u001b[0m\u001b[0;34m)\u001b[0m\u001b[0;34m\u001b[0m\u001b[0;34m\u001b[0m\u001b[0m\n\u001b[0;32m--> 824\u001b[0;31m         \u001b[0;32mreturn\u001b[0m \u001b[0mself\u001b[0m\u001b[0;34m.\u001b[0m\u001b[0mpartial_fit\u001b[0m\u001b[0;34m(\u001b[0m\u001b[0mX\u001b[0m\u001b[0;34m,\u001b[0m \u001b[0my\u001b[0m\u001b[0;34m,\u001b[0m \u001b[0msample_weight\u001b[0m\u001b[0;34m)\u001b[0m\u001b[0;34m\u001b[0m\u001b[0;34m\u001b[0m\u001b[0m\n\u001b[0m",
      "\u001b[0;32m~/miniconda3.2/lib/python3.10/site-packages/sklearn/preprocessing/_data.py\u001b[0m in \u001b[0;36m?\u001b[0;34m(self, X, y, sample_weight)\u001b[0m\n\u001b[1;32m    857\u001b[0m         \"\"\"\n\u001b[1;32m    858\u001b[0m         \u001b[0mself\u001b[0m\u001b[0;34m.\u001b[0m\u001b[0m_validate_params\u001b[0m\u001b[0;34m(\u001b[0m\u001b[0;34m)\u001b[0m\u001b[0;34m\u001b[0m\u001b[0;34m\u001b[0m\u001b[0m\n\u001b[1;32m    859\u001b[0m \u001b[0;34m\u001b[0m\u001b[0m\n\u001b[1;32m    860\u001b[0m         \u001b[0mfirst_call\u001b[0m \u001b[0;34m=\u001b[0m \u001b[0;32mnot\u001b[0m \u001b[0mhasattr\u001b[0m\u001b[0;34m(\u001b[0m\u001b[0mself\u001b[0m\u001b[0;34m,\u001b[0m \u001b[0;34m\"n_samples_seen_\"\u001b[0m\u001b[0;34m)\u001b[0m\u001b[0;34m\u001b[0m\u001b[0;34m\u001b[0m\u001b[0m\n\u001b[0;32m--> 861\u001b[0;31m         X = self._validate_data(\n\u001b[0m\u001b[1;32m    862\u001b[0m             \u001b[0mX\u001b[0m\u001b[0;34m,\u001b[0m\u001b[0;34m\u001b[0m\u001b[0;34m\u001b[0m\u001b[0m\n\u001b[1;32m    863\u001b[0m             \u001b[0maccept_sparse\u001b[0m\u001b[0;34m=\u001b[0m\u001b[0;34m(\u001b[0m\u001b[0;34m\"csr\"\u001b[0m\u001b[0;34m,\u001b[0m \u001b[0;34m\"csc\"\u001b[0m\u001b[0;34m)\u001b[0m\u001b[0;34m,\u001b[0m\u001b[0;34m\u001b[0m\u001b[0;34m\u001b[0m\u001b[0m\n\u001b[1;32m    864\u001b[0m             \u001b[0mdtype\u001b[0m\u001b[0;34m=\u001b[0m\u001b[0mFLOAT_DTYPES\u001b[0m\u001b[0;34m,\u001b[0m\u001b[0;34m\u001b[0m\u001b[0;34m\u001b[0m\u001b[0m\n",
      "\u001b[0;32m~/miniconda3.2/lib/python3.10/site-packages/sklearn/base.py\u001b[0m in \u001b[0;36m?\u001b[0;34m(self, X, y, reset, validate_separately, **check_params)\u001b[0m\n\u001b[1;32m    561\u001b[0m \u001b[0;34m\u001b[0m\u001b[0m\n\u001b[1;32m    562\u001b[0m         \u001b[0;32mif\u001b[0m \u001b[0mno_val_X\u001b[0m \u001b[0;32mand\u001b[0m \u001b[0mno_val_y\u001b[0m\u001b[0;34m:\u001b[0m\u001b[0;34m\u001b[0m\u001b[0;34m\u001b[0m\u001b[0m\n\u001b[1;32m    563\u001b[0m             \u001b[0;32mraise\u001b[0m \u001b[0mValueError\u001b[0m\u001b[0;34m(\u001b[0m\u001b[0;34m\"Validation should be done on X, y or both.\"\u001b[0m\u001b[0;34m)\u001b[0m\u001b[0;34m\u001b[0m\u001b[0;34m\u001b[0m\u001b[0m\n\u001b[1;32m    564\u001b[0m         \u001b[0;32melif\u001b[0m \u001b[0;32mnot\u001b[0m \u001b[0mno_val_X\u001b[0m \u001b[0;32mand\u001b[0m \u001b[0mno_val_y\u001b[0m\u001b[0;34m:\u001b[0m\u001b[0;34m\u001b[0m\u001b[0;34m\u001b[0m\u001b[0m\n\u001b[0;32m--> 565\u001b[0;31m             \u001b[0mX\u001b[0m \u001b[0;34m=\u001b[0m \u001b[0mcheck_array\u001b[0m\u001b[0;34m(\u001b[0m\u001b[0mX\u001b[0m\u001b[0;34m,\u001b[0m \u001b[0minput_name\u001b[0m\u001b[0;34m=\u001b[0m\u001b[0;34m\"X\"\u001b[0m\u001b[0;34m,\u001b[0m \u001b[0;34m**\u001b[0m\u001b[0mcheck_params\u001b[0m\u001b[0;34m)\u001b[0m\u001b[0;34m\u001b[0m\u001b[0;34m\u001b[0m\u001b[0m\n\u001b[0m\u001b[1;32m    566\u001b[0m             \u001b[0mout\u001b[0m \u001b[0;34m=\u001b[0m \u001b[0mX\u001b[0m\u001b[0;34m\u001b[0m\u001b[0;34m\u001b[0m\u001b[0m\n\u001b[1;32m    567\u001b[0m         \u001b[0;32melif\u001b[0m \u001b[0mno_val_X\u001b[0m \u001b[0;32mand\u001b[0m \u001b[0;32mnot\u001b[0m \u001b[0mno_val_y\u001b[0m\u001b[0;34m:\u001b[0m\u001b[0;34m\u001b[0m\u001b[0;34m\u001b[0m\u001b[0m\n\u001b[1;32m    568\u001b[0m             \u001b[0my\u001b[0m \u001b[0;34m=\u001b[0m \u001b[0m_check_y\u001b[0m\u001b[0;34m(\u001b[0m\u001b[0my\u001b[0m\u001b[0;34m,\u001b[0m \u001b[0;34m**\u001b[0m\u001b[0mcheck_params\u001b[0m\u001b[0;34m)\u001b[0m\u001b[0;34m\u001b[0m\u001b[0;34m\u001b[0m\u001b[0m\n",
      "\u001b[0;32m~/miniconda3.2/lib/python3.10/site-packages/sklearn/utils/validation.py\u001b[0m in \u001b[0;36m?\u001b[0;34m(array, accept_sparse, accept_large_sparse, dtype, order, copy, force_all_finite, ensure_2d, allow_nd, ensure_min_samples, ensure_min_features, estimator, input_name)\u001b[0m\n\u001b[1;32m    876\u001b[0m                         )\n\u001b[1;32m    877\u001b[0m                     \u001b[0marray\u001b[0m \u001b[0;34m=\u001b[0m \u001b[0mxp\u001b[0m\u001b[0;34m.\u001b[0m\u001b[0mastype\u001b[0m\u001b[0;34m(\u001b[0m\u001b[0marray\u001b[0m\u001b[0;34m,\u001b[0m \u001b[0mdtype\u001b[0m\u001b[0;34m,\u001b[0m \u001b[0mcopy\u001b[0m\u001b[0;34m=\u001b[0m\u001b[0;32mFalse\u001b[0m\u001b[0;34m)\u001b[0m\u001b[0;34m\u001b[0m\u001b[0;34m\u001b[0m\u001b[0m\n\u001b[1;32m    878\u001b[0m                 \u001b[0;32melse\u001b[0m\u001b[0;34m:\u001b[0m\u001b[0;34m\u001b[0m\u001b[0;34m\u001b[0m\u001b[0m\n\u001b[1;32m    879\u001b[0m                     \u001b[0marray\u001b[0m \u001b[0;34m=\u001b[0m \u001b[0m_asarray_with_order\u001b[0m\u001b[0;34m(\u001b[0m\u001b[0marray\u001b[0m\u001b[0;34m,\u001b[0m \u001b[0morder\u001b[0m\u001b[0;34m=\u001b[0m\u001b[0morder\u001b[0m\u001b[0;34m,\u001b[0m \u001b[0mdtype\u001b[0m\u001b[0;34m=\u001b[0m\u001b[0mdtype\u001b[0m\u001b[0;34m,\u001b[0m \u001b[0mxp\u001b[0m\u001b[0;34m=\u001b[0m\u001b[0mxp\u001b[0m\u001b[0;34m)\u001b[0m\u001b[0;34m\u001b[0m\u001b[0;34m\u001b[0m\u001b[0m\n\u001b[0;32m--> 880\u001b[0;31m             \u001b[0;32mexcept\u001b[0m \u001b[0mComplexWarning\u001b[0m \u001b[0;32mas\u001b[0m \u001b[0mcomplex_warning\u001b[0m\u001b[0;34m:\u001b[0m\u001b[0;34m\u001b[0m\u001b[0;34m\u001b[0m\u001b[0m\n\u001b[0m\u001b[1;32m    881\u001b[0m                 raise ValueError(\n\u001b[1;32m    882\u001b[0m                     \u001b[0;34m\"Complex data not supported\\n{}\\n\"\u001b[0m\u001b[0;34m.\u001b[0m\u001b[0mformat\u001b[0m\u001b[0;34m(\u001b[0m\u001b[0marray\u001b[0m\u001b[0;34m)\u001b[0m\u001b[0;34m\u001b[0m\u001b[0;34m\u001b[0m\u001b[0m\n\u001b[1;32m    883\u001b[0m                 ) from complex_warning\n",
      "\u001b[0;32m~/miniconda3.2/lib/python3.10/site-packages/sklearn/utils/_array_api.py\u001b[0m in \u001b[0;36m?\u001b[0;34m(array, dtype, order, copy, xp)\u001b[0m\n\u001b[1;32m    181\u001b[0m     \u001b[0;32mif\u001b[0m \u001b[0mxp\u001b[0m \u001b[0;32mis\u001b[0m \u001b[0;32mNone\u001b[0m\u001b[0;34m:\u001b[0m\u001b[0;34m\u001b[0m\u001b[0;34m\u001b[0m\u001b[0m\n\u001b[1;32m    182\u001b[0m         \u001b[0mxp\u001b[0m\u001b[0;34m,\u001b[0m \u001b[0m_\u001b[0m \u001b[0;34m=\u001b[0m \u001b[0mget_namespace\u001b[0m\u001b[0;34m(\u001b[0m\u001b[0marray\u001b[0m\u001b[0;34m)\u001b[0m\u001b[0;34m\u001b[0m\u001b[0;34m\u001b[0m\u001b[0m\n\u001b[1;32m    183\u001b[0m     \u001b[0;32mif\u001b[0m \u001b[0mxp\u001b[0m\u001b[0;34m.\u001b[0m\u001b[0m__name__\u001b[0m \u001b[0;32min\u001b[0m \u001b[0;34m{\u001b[0m\u001b[0;34m\"numpy\"\u001b[0m\u001b[0;34m,\u001b[0m \u001b[0;34m\"numpy.array_api\"\u001b[0m\u001b[0;34m}\u001b[0m\u001b[0;34m:\u001b[0m\u001b[0;34m\u001b[0m\u001b[0;34m\u001b[0m\u001b[0m\n\u001b[1;32m    184\u001b[0m         \u001b[0;31m# Use NumPy API to support order\u001b[0m\u001b[0;34m\u001b[0m\u001b[0;34m\u001b[0m\u001b[0m\n\u001b[0;32m--> 185\u001b[0;31m         \u001b[0marray\u001b[0m \u001b[0;34m=\u001b[0m \u001b[0mnumpy\u001b[0m\u001b[0;34m.\u001b[0m\u001b[0masarray\u001b[0m\u001b[0;34m(\u001b[0m\u001b[0marray\u001b[0m\u001b[0;34m,\u001b[0m \u001b[0morder\u001b[0m\u001b[0;34m=\u001b[0m\u001b[0morder\u001b[0m\u001b[0;34m,\u001b[0m \u001b[0mdtype\u001b[0m\u001b[0;34m=\u001b[0m\u001b[0mdtype\u001b[0m\u001b[0;34m)\u001b[0m\u001b[0;34m\u001b[0m\u001b[0;34m\u001b[0m\u001b[0m\n\u001b[0m\u001b[1;32m    186\u001b[0m         \u001b[0;32mreturn\u001b[0m \u001b[0mxp\u001b[0m\u001b[0;34m.\u001b[0m\u001b[0masarray\u001b[0m\u001b[0;34m(\u001b[0m\u001b[0marray\u001b[0m\u001b[0;34m,\u001b[0m \u001b[0mcopy\u001b[0m\u001b[0;34m=\u001b[0m\u001b[0mcopy\u001b[0m\u001b[0;34m)\u001b[0m\u001b[0;34m\u001b[0m\u001b[0;34m\u001b[0m\u001b[0m\n\u001b[1;32m    187\u001b[0m     \u001b[0;32melse\u001b[0m\u001b[0;34m:\u001b[0m\u001b[0;34m\u001b[0m\u001b[0;34m\u001b[0m\u001b[0m\n\u001b[1;32m    188\u001b[0m         \u001b[0;32mreturn\u001b[0m \u001b[0mxp\u001b[0m\u001b[0;34m.\u001b[0m\u001b[0masarray\u001b[0m\u001b[0;34m(\u001b[0m\u001b[0marray\u001b[0m\u001b[0;34m,\u001b[0m \u001b[0mdtype\u001b[0m\u001b[0;34m=\u001b[0m\u001b[0mdtype\u001b[0m\u001b[0;34m,\u001b[0m \u001b[0mcopy\u001b[0m\u001b[0;34m=\u001b[0m\u001b[0mcopy\u001b[0m\u001b[0;34m)\u001b[0m\u001b[0;34m\u001b[0m\u001b[0;34m\u001b[0m\u001b[0m\n",
      "\u001b[0;32m~/miniconda3.2/lib/python3.10/site-packages/pandas/core/generic.py\u001b[0m in \u001b[0;36m?\u001b[0;34m(self, dtype)\u001b[0m\n\u001b[1;32m   2082\u001b[0m     \u001b[0;32mdef\u001b[0m \u001b[0m__array__\u001b[0m\u001b[0;34m(\u001b[0m\u001b[0mself\u001b[0m\u001b[0;34m,\u001b[0m \u001b[0mdtype\u001b[0m\u001b[0;34m:\u001b[0m \u001b[0mnpt\u001b[0m\u001b[0;34m.\u001b[0m\u001b[0mDTypeLike\u001b[0m \u001b[0;34m|\u001b[0m \u001b[0;32mNone\u001b[0m \u001b[0;34m=\u001b[0m \u001b[0;32mNone\u001b[0m\u001b[0;34m)\u001b[0m \u001b[0;34m->\u001b[0m \u001b[0mnp\u001b[0m\u001b[0;34m.\u001b[0m\u001b[0mndarray\u001b[0m\u001b[0;34m:\u001b[0m\u001b[0;34m\u001b[0m\u001b[0;34m\u001b[0m\u001b[0m\n\u001b[1;32m   2083\u001b[0m         \u001b[0mvalues\u001b[0m \u001b[0;34m=\u001b[0m \u001b[0mself\u001b[0m\u001b[0;34m.\u001b[0m\u001b[0m_values\u001b[0m\u001b[0;34m\u001b[0m\u001b[0;34m\u001b[0m\u001b[0m\n\u001b[0;32m-> 2084\u001b[0;31m         \u001b[0marr\u001b[0m \u001b[0;34m=\u001b[0m \u001b[0mnp\u001b[0m\u001b[0;34m.\u001b[0m\u001b[0masarray\u001b[0m\u001b[0;34m(\u001b[0m\u001b[0mvalues\u001b[0m\u001b[0;34m,\u001b[0m \u001b[0mdtype\u001b[0m\u001b[0;34m=\u001b[0m\u001b[0mdtype\u001b[0m\u001b[0;34m)\u001b[0m\u001b[0;34m\u001b[0m\u001b[0;34m\u001b[0m\u001b[0m\n\u001b[0m\u001b[1;32m   2085\u001b[0m         if (\n\u001b[1;32m   2086\u001b[0m             \u001b[0mastype_is_view\u001b[0m\u001b[0;34m(\u001b[0m\u001b[0mvalues\u001b[0m\u001b[0;34m.\u001b[0m\u001b[0mdtype\u001b[0m\u001b[0;34m,\u001b[0m \u001b[0marr\u001b[0m\u001b[0;34m.\u001b[0m\u001b[0mdtype\u001b[0m\u001b[0;34m)\u001b[0m\u001b[0;34m\u001b[0m\u001b[0;34m\u001b[0m\u001b[0m\n\u001b[1;32m   2087\u001b[0m             \u001b[0;32mand\u001b[0m \u001b[0musing_copy_on_write\u001b[0m\u001b[0;34m(\u001b[0m\u001b[0;34m)\u001b[0m\u001b[0;34m\u001b[0m\u001b[0;34m\u001b[0m\u001b[0m\n",
      "\u001b[0;31mValueError\u001b[0m: could not convert string to float: 'Mallorca'"
     ]
    }
   ],
   "source": [
    "from sklearn.preprocessing import StandardScaler\n",
    "scaler = StandardScaler()\n",
    "scaled_X_test = scaler.fit_transform(X_test)\n",
    "scaled_X_train = scaler.fit_transform(X_train)"
   ]
  },
  {
   "cell_type": "code",
   "execution_count": null,
   "id": "2cf53b85-70be-4521-aaf0-51d63a68609d",
   "metadata": {
    "tags": []
   },
   "outputs": [],
   "source": [
    "scaled_X_test"
   ]
  },
  {
   "cell_type": "code",
   "execution_count": null,
   "id": "ff0048f9-4cdb-4f0c-b50d-9e5bf61f6163",
   "metadata": {
    "tags": []
   },
   "outputs": [],
   "source": [
    "import numpy as np\n",
    "from sklearn.metrics import mean_absolute_error, mean_squared_error\n",
    "def modelresults(predictions):\n",
    "    print(\"Mean absolute error on model is {}\".format(mean_absolute_error(y_test, predictions)))\n",
    "    print(\"Root mean squared error on model is {}\".format(np.sqrt(mean_sqaured_error(y_test,predictions)))) "
   ]
  },
  {
   "cell_type": "code",
   "execution_count": null,
   "id": "485f6a60-e74a-4e55-a362-31037a58fbb7",
   "metadata": {
    "tags": []
   },
   "outputs": [],
   "source": [
    "from sklearn.linear_model import LinearRegression\n",
    "lr = LinearRegression()\n",
    "lr.fit(scaled_X_train,X_train)"
   ]
  },
  {
   "cell_type": "code",
   "execution_count": null,
   "id": "a8462de5-c91b-4db9-9f04-8adde5d1f9fd",
   "metadata": {
    "tags": []
   },
   "outputs": [],
   "source": [
    "preslr = lr.predict(scaled_X_test)"
   ]
  },
  {
   "cell_type": "code",
   "execution_count": null,
   "id": "55a6df3a-cf24-457b-b5ae-7d6f256c67b8",
   "metadata": {
    "tags": []
   },
   "outputs": [],
   "source": [
    "modelresults(preslr)"
   ]
  },
  {
   "cell_type": "code",
   "execution_count": null,
   "id": "23aed447-4ca5-4ca8-afa7-29ff32ce0f57",
   "metadata": {
    "tags": []
   },
   "outputs": [],
   "source": [
    "from sklearn.model_selection import GridSearchCV\n",
    "from sklearn.svm import SVR"
   ]
  },
  {
   "cell_type": "code",
   "execution_count": null,
   "id": "ae426e89-764b-4baf-a86f-1e8db48d2598",
   "metadata": {
    "tags": []
   },
   "outputs": [],
   "source": [
    "svrmodel = SVR()"
   ]
  },
  {
   "cell_type": "code",
   "execution_count": null,
   "id": "8c8476be-a54c-431b-97bb-3b37fef71867",
   "metadata": {
    "tags": []
   },
   "outputs": [],
   "source": [
    "param_gridsvr = {\"C\" : [0.01,0.1,0.5],\"kernel\":[\"linear\",\"rbf\",\"polt\"],\"degree\":[2,3,4]}"
   ]
  },
  {
   "cell_type": "code",
   "execution_count": null,
   "id": "f26eb46b-e4fc-45f8-85ba-5c2def456844",
   "metadata": {
    "tags": []
   },
   "outputs": [],
   "source": [
    "gridsvr = GridSearchCV(svrmodel,param_gridsvr)"
   ]
  },
  {
   "cell_type": "code",
   "execution_count": null,
   "id": "e8796c44-ee80-4a85-92e9-e91b617650c7",
   "metadata": {
    "tags": []
   },
   "outputs": [],
   "source": [
    "gridsvr.fit(scaled_X_train, y_train)"
   ]
  },
  {
   "cell_type": "code",
   "execution_count": null,
   "id": "e40cbdc9-7d90-4eb0-8fff-c3779fcb8f9c",
   "metadata": {
    "tags": []
   },
   "outputs": [],
   "source": [
    "print(\"Best parameters for model is {}\".format(gridsvr.best_params_)"
   ]
  },
  {
   "cell_type": "code",
   "execution_count": null,
   "id": "c0b14e15-fdce-4e66-8b41-b7eb412ed6f0",
   "metadata": {
    "tags": []
   },
   "outputs": [],
   "source": [
    "predsgridsvr = gridsvr.predict(scaled_X_test)"
   ]
  },
  {
   "cell_type": "code",
   "execution_count": null,
   "id": "a575b107-95ae-4272-945b-2c3c8fc5b2c7",
   "metadata": {
    "tags": []
   },
   "outputs": [],
   "source": [
    "modelresults(predsgridsvr)"
   ]
  },
  {
   "cell_type": "code",
   "execution_count": null,
   "id": "82a5fe66-4ee8-4931-a41a-c201ebded1d8",
   "metadata": {
    "tags": []
   },
   "outputs": [],
   "source": [
    "from sklearn.ensemble import RandomForestRegressor()"
   ]
  },
  {
   "cell_type": "code",
   "execution_count": null,
   "id": "0253b930-b959-403e-a498-5e429f9826ac",
   "metadata": {
    "tags": []
   },
   "outputs": [],
   "source": [
    "rfrmodel = RandomForestRegressor()"
   ]
  },
  {
   "cell_type": "code",
   "execution_count": null,
   "id": "3f257dc6-6a45-4b81-bc60-8c459367ed9b",
   "metadata": {
    "tags": []
   },
   "outputs": [],
   "source": [
    "param_gridrfr = {\"max_depth\" : [5,10,15],\"max_features\":[\"a\"]}"
   ]
  },
  {
   "cell_type": "code",
   "execution_count": null,
   "id": "d02a11da-df31-4a4f-8d79-ce8cd221d0e1",
   "metadata": {},
   "outputs": [],
   "source": []
  },
  {
   "cell_type": "code",
   "execution_count": null,
   "id": "d330324e-aa69-495c-9b34-92ef39773757",
   "metadata": {},
   "outputs": [],
   "source": []
  }
 ],
 "metadata": {
  "kernelspec": {
   "display_name": "Python 3 (ipykernel)",
   "language": "python",
   "name": "python3"
  },
  "language_info": {
   "codemirror_mode": {
    "name": "ipython",
    "version": 3
   },
   "file_extension": ".py",
   "mimetype": "text/x-python",
   "name": "python",
   "nbconvert_exporter": "python",
   "pygments_lexer": "ipython3",
   "version": "3.10.9"
  }
 },
 "nbformat": 4,
 "nbformat_minor": 5
}
